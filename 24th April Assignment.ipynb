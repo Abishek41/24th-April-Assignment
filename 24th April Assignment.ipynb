{
 "cells": [
  {
   "cell_type": "markdown",
   "id": "7aff66b5",
   "metadata": {},
   "source": [
    "1. What is a projection and how is it used in PCA?\n",
    "\n",
    "Ans: PCA projection is used to capture the most basic patterns in the data while minimizing the loss of information. It is used to map from higher dimension to lower dimension"
   ]
  },
  {
   "cell_type": "markdown",
   "id": "e7f5fac4",
   "metadata": {},
   "source": [
    "2. How does the optimization problem in PCA work, and what is it trying to achieve?\n",
    "\n",
    "Ans: The optimization problem can be formulated as finding the principal components that maximize the variance of the projected data. This can be done by solving for the eigenvalues and eigenvectors of the covariance matrix of the data."
   ]
  },
  {
   "cell_type": "markdown",
   "id": "06d9e043",
   "metadata": {},
   "source": [
    "3. What is the relationship between covariance matrices and PCA?\n",
    "\n",
    "Ans: The covariance checks how the relationship between two data. In other words, it indicates the degree to which two variables are linearly related. The covariance matrix provides the necessary information to calculate the principal components and determine each component's relative importance in explaining the variation in the data. "
   ]
  },
  {
   "cell_type": "markdown",
   "id": "42098255",
   "metadata": {},
   "source": [
    "4. How does the choice of number of principal components impact the performance of PCA?\n",
    "\n",
    "Ans: The choice of the number of principal components impacts the performance of PCA. If few principals were chosen, that could lead to loss of information and underfitting and poor performance of the model."
   ]
  },
  {
   "cell_type": "markdown",
   "id": "31634cbe",
   "metadata": {},
   "source": [
    "5. How can PCA be used in feature selection, and what are the benefits of using it for this purpose?\n",
    "\n",
    "Ans: PCA can be used in feature selection as it effectively reduces the dimension. It also makes it more manageable and computationally efficient. It also removes redundant and correlated values and noisy data."
   ]
  },
  {
   "cell_type": "markdown",
   "id": "84d13c5a",
   "metadata": {},
   "source": [
    "6. What are some common applications of PCA in data science and machine learning?\n",
    "\n",
    "Ans: Some appication of PCA are:\n",
    "a. Image compression\n",
    "b. Data visualization\n",
    "c. Anomaly detection"
   ]
  },
  {
   "cell_type": "markdown",
   "id": "88f5b281",
   "metadata": {},
   "source": [
    "7. What is the relationship between spread and variance in PCA?\n",
    "\n",
    "Ans: The variance measures how much the data varies from the mean, and it reflects the spread of the data in one particular direction or dimension. In PCA, the variance is computed for each principal component, with the first principal component having the most significant variance"
   ]
  },
  {
   "cell_type": "markdown",
   "id": "99ae91c4",
   "metadata": {},
   "source": [
    "8. How does PCA use the spread and variance of the data to identify principal components?\n",
    "\n",
    "Ans: PCA uses the spread and variance of the data to identify principal components by finding the directions in which the data varies the most."
   ]
  },
  {
   "cell_type": "markdown",
   "id": "dd6aa6d4",
   "metadata": {},
   "source": [
    "9. How does PCA handle data with high variance in some dimensions but low variance in others?\n",
    "\n",
    "Ans: PCA scales the data before performing dimensionality reduction by subtracting the mean and dividing by the standard deviation, allowing it to identify important features even if they have lower variances. This ensures that the principal components are representative of the true underlying structure of the data."
   ]
  },
  {
   "cell_type": "code",
   "execution_count": null,
   "id": "f6cc033e",
   "metadata": {},
   "outputs": [],
   "source": []
  }
 ],
 "metadata": {
  "kernelspec": {
   "display_name": "Python 3 (ipykernel)",
   "language": "python",
   "name": "python3"
  },
  "language_info": {
   "codemirror_mode": {
    "name": "ipython",
    "version": 3
   },
   "file_extension": ".py",
   "mimetype": "text/x-python",
   "name": "python",
   "nbconvert_exporter": "python",
   "pygments_lexer": "ipython3",
   "version": "3.10.8"
  }
 },
 "nbformat": 4,
 "nbformat_minor": 5
}
